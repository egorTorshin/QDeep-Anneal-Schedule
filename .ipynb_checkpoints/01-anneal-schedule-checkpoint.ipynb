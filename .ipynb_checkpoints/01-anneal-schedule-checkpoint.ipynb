{
 "cells": [
  {
   "cell_type": "markdown",
   "metadata": {},
   "source": [
    "# Anneal Schedule\n",
    "This notebook explores features that give you control over the D-Wave system's global [anneal schedule](#Understanding-the-Anneal-Schedule). These features can improve solutions to a problem and provide insight into the behaviour and dynamics of problems undergoing quantum annealing.\n",
    "\n",
    "1. [Understanding the Anneal Schedule](#Understanding-the-Anneal-Schedule) explains the feature.\n",
    "2. [Using Anneal Schedule Features](#Using-Anneal-Schedule-Features) shows how to use the feature with an interactive example problem.\n",
    "3. [Mapping Various Anneal Schedules](#Mapping-Various-Anneal-Schedules-on-the-QPU) provides code that sweeps through various anneal schedules to explore the effect on results.\n",
    "\n",
    "Uses of the feature are described, for example, in [The power of pausing](https://arxiv.org/abs/1810.05881) \n",
    "<div class=\"alert alert-warning\" role=\"alert\" style=\"margin: 10px\">\n",
    "Note that the final section of this Jupyter Notebook sends a large number of problems to the QPU, takes several minutes to complete, and uses tens of seconds of QPU time. If your account has a limited quota, consider running only the first sections (and not using the Run All menu option).   \n",
    "</div>"
   ]
  },
  {
   "cell_type": "markdown",
   "metadata": {},
   "source": [
    "**New to Jupyter Notebooks?** JNs are divided into text or code cells. Pressing the **Run** button in the menu bar moves to the next cell. Code cells are marked by an \"In: \\[\\]\" to the left; when run, an asterisk displays until code completion: \"In: \\[\\*\\]\"."
   ]
  },
  {
   "cell_type": "markdown",
   "metadata": {},
   "source": [
    "## Feature Availability\n",
    "\n",
    "Availability of the anneal schedule features depends on the solver you connect to. To see whether your solver supports anneal schedule features, check solver property `max_anneal_schedule_points`  and ensure it is at least 4. \n",
    "\n",
    "First, we set up a connection to the quantum processing unit (QPU). Enter your token value if required."
   ]
  },
  {
   "cell_type": "code",
   "execution_count": null,
   "metadata": {},
   "outputs": [],
   "source": [
    "from neal import SimulatedAnnealingSampler\n",
    "sampler = SimulatedAnnealingSampler()\n",
    "print(\"Connected to sampler\", sampler.solver.name)"
   ]
  },
  {
   "cell_type": "code",
   "execution_count": null,
   "metadata": {},
   "outputs": [],
   "source": [
    "print(\"Maximum anneal schedule points: {}\".format(sampler.properties[\"max_anneal_schedule_points\"]))"
   ]
  },
  {
   "cell_type": "markdown",
   "metadata": {},
   "source": [
    "Your code can ensure a solver supports the feature by making it a selection criteria: `sampler = DWaveSampler(solver={'max_anneal_schedule_points__gte': 4})` selects only a QPU that supports at least 4 anneal-schedule points."
   ]
  },
  {
   "cell_type": "markdown",
   "metadata": {},
   "source": [
    "## Understanding the Anneal Schedule\n",
    "\n",
    "The [Getting Started with the D-Wave System](https://docs.dwavesys.com/docs/latest/doc_getting_started.html) document describes quantum annealing and the [Solver Properties and Parameters](https://docs.dwavesys.com/docs/latest/doc_solver_ref.html) book describes the parameters used here.\n",
    "\n",
    "In brief, *anneal schedule* refers to the global annealing trajectory. It specifies the normalized anneal fraction, $s$, an abstract parameter ranging from 0 to 1. $s(t)$ is a continuous function starting at $s=0$ for time $t=0$ and ending with $s=1$ at $t=t_f$, the total time of the anneal.\n",
    "\n",
    "There are two ways to specify the anneal schedule, using two *mutually exclusive* parameters:\n",
    "\n",
    "1. `annealing_time`: Set to a number in microseconds to specify linear growth from $s=0$ to $s=1$ over that time.\n",
    "2. `annealing_schedule`: Specify a list of ($t$, $s$) pairs specifying points, which are then linearly interpolated. This feature supports two modes &mdash; mid-anneal *pause* and mid-anneal *quench* &mdash; which this tutorial explores.\n",
    "   \n",
    "<div class=\"alert alert-warning\" role=\"alert\" style=\"margin: 10px\">\n",
    "It is an error to specify both `annealing_time` and `annealing_schedule`.\n",
    "</div>\n",
    "\n",
    "The slope of a line segment is specified as $m_q = \\frac{\\Delta s}{\\Delta t}$, with units of $\\mu s^{-1}$. The maximum slope is equal to the inverse of the minimum anneal time. For example, a quench slope of $m_q = 0.5$ is equivalent to a 2 $\\mu s$ standard anneal. The cell below calculates the maximum slope for your sampler."
   ]
  },
  {
   "cell_type": "code",
   "execution_count": null,
   "metadata": {},
   "outputs": [],
   "source": [
    "annealing_range = sampler.properties[\"annealing_time_range\"]\n",
    "max_slope = 1.0/annealing_range[0]\n",
    "print(\"Annealing time range: {}\".format(sampler.properties[\"annealing_time_range\"]))\n",
    "print(\"Maximum slope:\", max_slope)"
   ]
  },
  {
   "cell_type": "markdown",
   "metadata": {},
   "source": [
    "A number of rules must be followed when building an anneal schedule:\n",
    "\n",
    "* The first point must be (0,0).\n",
    "* Normalized anneal fraction $s$ must increase monotonically.\n",
    "* In the final point, $s$ must equal 1 and time $t$ must not exceed the maximum value in the `annealing_time_range` property.\n",
    "* The number of points must be $\\ge 2$. The upper bound is system-dependent &mdash; check the `max_anneal_schedule_points` property.\n",
    "* The slopes of each line segment must not violate the maximum slope $m_{max}$.\n",
    "\n",
    "**Violating these rules returns an error.** Additional rules that govern maximum slope vary by system; check the QPU properties document for your system. \n",
    "\n",
    "The sections below demonstrate three schedule variations: \n",
    "\n",
    "* [Pause](#Pause) \n",
    "* [Quench](#Quench) \n",
    "* [Pause and Quench](#Pause-and-Quench)"
   ]
  },
  {
   "cell_type": "markdown",
   "metadata": {},
   "source": [
    "### Pause\n",
    "\n",
    "This section creates an anneal schedule with a pause of 200 $\\mu s$ halfway through a 100 $\\mu s$ anneal. The following code specifies four points: (1) start of anneal, (2) beginning of pause, (3) end of pause, and (4) end of anneal.\n",
    "\n",
    "(1) Anneal begins at point $[0, 0]$. \n",
    "\n",
    "(2 & 3) Anneal continues until half-way through a $100 \\mu s$ anneal; that is, time $50 \\mu s$ with $s = 0.5$ (half-way to an endpoint that must have $s=1.0$). So the next two schedule points are $[50, 0.5]$ and $[250,0.5]$ for a pause of $200 \\mu s$.\n",
    "\n",
    "(4) Aneal resumes for the last $50 \\mu s$ and reaches $s=1.0$, making the endpoint $[300, 1]$."
   ]
  },
  {
   "cell_type": "markdown",
   "metadata": {},
   "source": [
    "The next cell plots the anneal schedule with a pause."
   ]
  },
  {
   "cell_type": "code",
   "execution_count": null,
   "metadata": {},
   "outputs": [],
   "source": [
    "from helpers.draw import plot_schedule\n",
    "\n",
    "# Print the full anneal schedule\n",
    "schedule = [[0.0, 0.0], [50.0, 0.5], [250.0, 0.5], [300, 1.0]]\n",
    "print(\"Schedule: %s\" % schedule)\n",
    "\n",
    "# Plot the anneal schedule\n",
    "plot_schedule(schedule, \"Example Anneal Schedule with Pause\")"
   ]
  },
  {
   "cell_type": "markdown",
   "metadata": {},
   "source": [
    "### Quench\n",
    "\n",
    "This section creates an anneal schedule with a quench. At 60% of the way through a 20 $\\mu s$ anneal, it sets a slope equivalent to a 2 $\\mu s$ anneal. This schedule has three points:\n",
    "\n",
    "(1) The schedule starts at $[0, 0]$.\n",
    "\n",
    "(2) The next schedule point is 60% of the way through a 20 $\\mu s$ anneal; that is, at 12 $\\mu s$. To determine $s$ at time $t = 12 \\mu s$, consider the slope of a standard $20 \\mu s$ anneal. Recall that the slope is defined as $m_q = \\frac{\\Delta s}{\\Delta t}$, so the slope for the first 12 $\\mu s$ is $\\frac{1}{20}$ and the next schedule point is $[12, 0.6]$.\n",
    "\n",
    "(3) The quench slope is equivalent to a 2 $\\mu s$ anneal, which has slope $\\frac{1}{2}$. This last segment must end with $s(t)=1$, which occurs at time $t=12.8 \\mu s$. This makes the last schedule point $[12.8, 1]$."
   ]
  },
  {
   "cell_type": "markdown",
   "metadata": {},
   "source": [
    "The next cell plots the anneal schedule with a quench."
   ]
  },
  {
   "cell_type": "code",
   "execution_count": null,
   "metadata": {},
   "outputs": [],
   "source": [
    "schedule=[[0.0,0.0],[12.0,0.6],[12.8,1.0]]\n",
    "print(\"Schedule: %s\" % schedule)\n",
    "\n",
    "plot_schedule(schedule, \"Example Anneal Schedule with Quench\")"
   ]
  },
  {
   "cell_type": "markdown",
   "metadata": {},
   "source": [
    "### Pause and Quench\n",
    "\n",
    "This section creates an anneal schedule with a quench following a 50 $\\mu s$ pause 40% of the way through a 100 $\\mu s$ anneal. As in section [Pause](#Pause), the schedule needs four points. Again, the resulting slope must not exceed the maximum slope for your system.\n",
    "\n",
    "The next cell plots the anneal schedule with a pause and a quench."
   ]
  },
  {
   "cell_type": "code",
   "execution_count": null,
   "metadata": {},
   "outputs": [],
   "source": [
    "schedule=[[0.0, 0.0], [40.0, 0.4], [90.0, 0.4], [91.2, 1.0]]\n",
    "print(\"Schedule: %s\" % schedule)\n",
    "\n",
    "plot_schedule(schedule, \"Example Anneal Schedule with Pause and Quench\")"
   ]
  },
  {
   "cell_type": "markdown",
   "metadata": {},
   "source": [
    "## Using Anneal Schedule Features\n",
    "This section demonstrates how the pause and quench features can improve solutions for an example problem. We use the 16-qubit system shown below, which was studied in https://www.nature.com/articles/ncomms2920, and has an energy gap of 4 between the classical ground state and excited states.\n",
    "\n",
    "This system is set up as shown in the image below, where dots are qubits with colors representing bias values and lines representing couplings (couplings weights are $-1$).\n",
    " \n",
    "<img src='images/16q_system.png'>"
   ]
  },
  {
   "cell_type": "markdown",
   "metadata": {},
   "source": [
    "The structure of this problem maps neatly to the Chimera topology of a D-Wave 2000Q QPU: it can be minor-embedded directly into two side-by-side Chimera unit cells, with each problem qubit represented by one qubit on the QPU. On Advantage systems, the problem can be similarly represented by qubits in two of the Chimera unit cell's near-counterpart structure in the Pegasus topology: $K_{4,4}$ bicliques with additional *odd* couplers.\n",
    "\n",
    "If you were to use a standard heuristic embedder such as [minorminer](https://docs.ocean.dwavesys.com/en/stable/docs_minorminer/source/sdk_index.html), however, some of the problem qubits might be represented by chains of qubits on the QPU. Instead, qubits of two ideal Chimera unit cells are used directly in the `h` and `J` definitions below and the `TilingComposite` composite scans adjacent unit cells on the QPU, finds adjacent pairs in which all the required qubits and couplers are available, and translates the one-to-one minor-embedding of the problem from the first two adjacent pairs to the first available valid pairs."
   ]
  },
  {
   "cell_type": "code",
   "execution_count": null,
   "metadata": {},
   "outputs": [],
   "source": [
    "h = {0: 1.0, 1: -1.0, 2: -1.0, 3: 1.0, 4: 1.0, 5: -1.0, 6: 0.0, 7: 1.0,\n",
    "     8: 1.0, 9: -1.0, 10: -1.0, 11: 1.0, 12: 1.0, 13: 0.0, 14: -1.0, 15: 1.0}\n",
    "J = {(9, 13): -1, (2, 6): -1, (8, 13): -1, (9, 14): -1, (9, 15): -1,\n",
    "     (10, 13): -1, (5, 13): -1, (10, 12): -1, (1, 5): -1, (10, 14): -1,\n",
    "     (0, 5): -1, (1, 6): -1, (3, 6): -1, (1, 7): -1, (11, 14): -1,\n",
    "     (2, 5): -1, (2, 4): -1, (6, 14): -1}"
   ]
  },
  {
   "cell_type": "code",
   "execution_count": null,
   "metadata": {},
   "outputs": [],
   "source": [
    "from dwave.system import TilingComposite, FixedEmbeddingComposite\n",
    "\n",
    "tiled_sampler = TilingComposite(sampler, 1, 2, 4)\n",
    "\n",
    "if tiled_sampler.num_tiles:\n",
    "    sampler_embedded = FixedEmbeddingComposite(sampler, embedding=tiled_sampler.embeddings[0])\n",
    "else:\n",
    "    print(\"Unable to find two complete unit cells in QPU {}\".format(sampler.solver.name))"
   ]
  },
  {
   "cell_type": "markdown",
   "metadata": {},
   "source": [
    "For reference, the next cell runs the problem with a default anneal schedule."
   ]
  },
  {
   "cell_type": "code",
   "execution_count": null,
   "metadata": {},
   "outputs": [],
   "source": [
    "runs=1000\n",
    "results = sampler_embedded.sample_ising(h, J, \n",
    "    num_reads=runs,\n",
    "    answer_mode='raw',\n",
    "    label='Notebook - Anneal Schedule',\n",
    "    annealing_time=100)\n",
    "\n",
    "print(\"QPU time used:\", results.info['timing']['qpu_access_time'], \"microseconds.\")"
   ]
  },
  {
   "cell_type": "markdown",
   "metadata": {},
   "source": [
    "The following visualization is a histogram of the returned solutions. Typically, the ground state (energy = -20.0) is found in just a fraction of the samples with the default anneal schedule."
   ]
  },
  {
   "cell_type": "code",
   "execution_count": null,
   "metadata": {},
   "outputs": [],
   "source": [
    "import matplotlib.pyplot as plt \n",
    "\n",
    "plt.hist(results.record.energy,rwidth=1,align='left',bins=[-21,-20,-19,-18,-17,-16,-15])\n",
    "plt.show()"
   ]
  },
  {
   "cell_type": "markdown",
   "metadata": {},
   "source": [
    "The next cell computes the percentage of ground-state solutions in the returned samples. You can infer the number of required samples you would need to ensure with high probability a good solution to the problem."
   ]
  },
  {
   "cell_type": "code",
   "execution_count": null,
   "metadata": {},
   "outputs": [],
   "source": [
    "import numpy as np\n",
    "\n",
    "_, counts = np.unique(results.record.energy.reshape(1000,1), axis=0, return_counts=True)\n",
    "print(\"Ground state probability: \", counts[0]/runs)"
   ]
  },
  {
   "cell_type": "markdown",
   "metadata": {},
   "source": [
    "### Using Pause\n",
    "\n",
    "This section shows some anneal schedules that include a pause. For three different anneal times and three different pause times, ground-state probability is measured as a function of $s_{pause}$, the fraction of the anneal time where the pause occurs. Success rate should increase when the pause occurs near to the freeze-out time.\n",
    "\n",
    "The schedules used here are all combinations of the following:\n",
    "\n",
    "  1. Anneal times of 10, 100, or 300 $\\mu s$.\n",
    "\n",
    "  2. Pause duration of 10, 100, or 300 $\\mu s$.\n",
    "\n",
    "  3. Pause starting at various points of $s$ between 0.2 to 0.6.\n",
    "\n",
    "This section uses saved results from a file. Section [Running the Paused Anneals on the QPU](#Running-the-Paused-Anneals-on-the-QPU) provides the code for you to run these anneals yourself. Note that running these anneals sends a large number of problems to the QPU, so that section takes several minutes to complete and uses a large number of seconds of QPU time."
   ]
  },
  {
   "cell_type": "code",
   "execution_count": null,
   "metadata": {},
   "outputs": [],
   "source": [
    "import pandas as pd\n",
    "import json\n",
    "with open(\"files/saved_pause_results.json\", \"r\") as read_file:\n",
    "    saved_pause_success_prob = pd.read_json(read_file)"
   ]
  },
  {
   "cell_type": "markdown",
   "metadata": {},
   "source": [
    "The next cell plots the results:"
   ]
  },
  {
   "cell_type": "code",
   "execution_count": null,
   "metadata": {},
   "outputs": [],
   "source": [
    "from helpers.draw import plot_success_fraction\n",
    "\n",
    "pause_plot = plot_success_fraction(saved_pause_success_prob, \n",
    "                      \"Success Fraction Using Pause for a Range of Anneal-Schedule Parameters\", \n",
    "                      \"pause_duration\")"
   ]
  },
  {
   "cell_type": "markdown",
   "metadata": {},
   "source": [
    "<div class=\"alert alert-block alert-success\">\n",
    "<b>Exercise:</b> Based on the results above, can you find a better ground state fraction? Define your own anneal schedule in the code block below and see how your results compare.\n",
    "</div>\n",
    "\n",
    "Your new point appears as a red circle on the plot. Each time you run this next cell a new red point is added to your previous points."
   ]
  },
  {
   "cell_type": "code",
   "execution_count": null,
   "metadata": {},
   "outputs": [],
   "source": [
    "#Update the standard anneal schedule parameters below: \n",
    "\n",
    "anneal_time = 20.0\n",
    "pause_duration = 20.0      # Must be greater than 0\n",
    "pause_start = 0.3        # Must be between 0 and 1\n",
    "\n",
    "#----------------------------------------------------------------\n",
    "#Leave the code below to run the problem and display the results.\n",
    "#----------------------------------------------------------------\n",
    "schedule=[[0.0,0.0],[pause_start*anneal_time,pause_start],[pause_start*anneal_time+pause_duration, pause_start],[anneal_time+pause_duration, 1.0]]\n",
    "runs=1000\n",
    "results = sampler_embedded.sample_ising(h, J,\n",
    "                anneal_schedule=schedule,\n",
    "                num_reads=runs, \n",
    "                answer_mode='raw',\n",
    "                label='Notebook - Anneal Schedule')\n",
    "success = np.count_nonzero(results.record.energy == -20.0)/runs\n",
    "print(\"Success probability: \",success)\n",
    "\n",
    "pause_plot[\"axis\"].scatter([pause_start],[success], color=\"red\", s=100)\n",
    "pause_plot[\"figure\"]"
   ]
  },
  {
   "cell_type": "markdown",
   "metadata": {},
   "source": [
    "### Quench\n",
    "This section looks at the effects of using a mid-anneal quench. As above, it sweeps through a range of anneal schedule parameters. Success rates should be low when the quench occurs before freeze out and be similar to a standard anneal when the quench occurs after freeze out.\n",
    "\n",
    "This section uses saved results from a file. Section [Running the Quenched Anneals on the QPU](#Running-the-Quenched-Anneals-on-the-QPU) provides the code for you to run these anneals yourself. Note that running these anneals sends a large number of problems to the QPU, so that section takes several minutes to complete and uses a large number of seconds of QPU time."
   ]
  },
  {
   "cell_type": "code",
   "execution_count": null,
   "metadata": {},
   "outputs": [],
   "source": [
    "with open(\"files/saved_quench_results.json\", \"r\") as read_file:\n",
    "    saved_quench_success_prob = pd.read_json(read_file).replace(0, np.nan)"
   ]
  },
  {
   "cell_type": "markdown",
   "metadata": {},
   "source": [
    "The next cell plots the results."
   ]
  },
  {
   "cell_type": "code",
   "execution_count": null,
   "metadata": {},
   "outputs": [],
   "source": [
    "quench_plot = plot_success_fraction(saved_quench_success_prob, \n",
    "                      \"Success Fraction Using Quench for a Range of Anneal-Schedule Parameters\", \n",
    "                      \"quench_slope\")"
   ]
  },
  {
   "cell_type": "markdown",
   "metadata": {},
   "source": [
    "<div class=\"alert alert-block alert-success\">\n",
    "<b>Exercise:</b> Based on the results above, can you find a better ground state fraction? Define your own anneal schedule in the code block below and see how your results compare.\n",
    "</div>\n",
    "\n",
    "Your new point appears as a red circle on the plot. Each time you run this next cell a new red point is added to your previous points."
   ]
  },
  {
   "cell_type": "code",
   "execution_count": null,
   "metadata": {},
   "outputs": [],
   "source": [
    "#Update the standard anneal schedule parameters below \n",
    "\n",
    "anneal_time = 50.0\n",
    "quench_slope = 1.0      # Must be greater than 0\n",
    "quench_start = 0.45      # Must be between 0 and 1\n",
    "\n",
    "#----------------------------------------------------------------\n",
    "#Leave the code below to run the problem and display the results.\n",
    "#----------------------------------------------------------------\n",
    "schedule=[[0.0,0.0],[quench_start*anneal_time,quench_start],[(1-quench_start+quench_slope*quench_start*anneal_time)/quench_slope, 1.0]]\n",
    "runs=1000\n",
    "results = sampler_embedded.sample_ising(h, J,\n",
    "                anneal_schedule=schedule,\n",
    "                num_reads=runs, \n",
    "                answer_mode='raw',\n",
    "                label='Notebook - Anneal Schedule')\n",
    "success = np.count_nonzero(results.record.energy == -20.0)/runs\n",
    "print(\"Success probability: \",success)\n",
    "\n",
    "quench_plot[\"axis\"].scatter([quench_start],[success], color=\"red\", s=100)\n",
    "quench_plot[\"figure\"]\n"
   ]
  },
  {
   "cell_type": "markdown",
   "metadata": {},
   "source": [
    "# Mapping Various Anneal Schedules  on the QPU\n",
    "Running the code in this section uses tens of seconds of QPU time. You can copy these cells to the respective cells in the previous section that use saved results. "
   ]
  },
  {
   "cell_type": "markdown",
   "metadata": {},
   "source": [
    "## Running the Paused Anneals on the QPU\n",
    "\n",
    "<div class=\"alert alert-warning\" role=\"alert\" style=\"margin: 10px\">\n",
    "Note that the next cell sends a large number of problems to the QPU, so running takes several minutes to complete and uses a large number of seconds of QPU time.\n",
    "</div>"
   ]
  },
  {
   "cell_type": "code",
   "execution_count": null,
   "metadata": {},
   "outputs": [],
   "source": [
    "anneal_time=[10.0, 100.0, 300.0]\n",
    "pause_duration=[10.0, 100.0, 300.0]\n",
    "\n",
    "# Create list of start times\n",
    "num_points=5\n",
    "s_low=0.2\n",
    "s_high=0.6\n",
    "pause_start=np.linspace(s_low, s_high, num=num_points)\n",
    "\n",
    "success_prob = pd.DataFrame(index=range(len(anneal_time)*len(pause_duration)*len(pause_start)),\n",
    "                                columns=[\"anneal_time\", \"pause_duration\", \"s_feature\", \"success_frac\"],\n",
    "                                data=None)\n",
    "counter=0\n",
    "\n",
    "print(\"Starting QPU calls...\")\n",
    "QPU_time=0.0\n",
    "for anneal in anneal_time:\n",
    "    for pause in pause_duration:\n",
    "        for start in pause_start:\n",
    "            schedule=[[0.0,0.0],[start*anneal,start],[start*anneal+pause, start],[anneal+pause, 1.0]]\n",
    "            runs=1000\n",
    "            results = sampler_embedded.sample_ising(h, J,\n",
    "                anneal_schedule=schedule,\n",
    "                num_reads=runs, \n",
    "                answer_mode='raw',\n",
    "                label='Notebook - Anneal Schedule')\n",
    "            success_prob.iloc[counter]={\"anneal_time\":anneal, \n",
    "                                        \"pause_duration\":pause, \n",
    "                                        \"s_feature\":start,\n",
    "                                        \"success_frac\":np.count_nonzero(results.record.energy == -20.0)/runs}\n",
    "            counter+=1\n",
    "            QPU_time+=results.info['timing']['qpu_access_time']\n",
    "        print(\"QPU calls remaining: \", len(anneal_time)*len(pause_duration)*len(pause_start)-counter)\n",
    "            \n",
    "print(\"QPU calls complete using\", QPU_time/1000000.0, \"seconds of QPU time.\")"
   ]
  },
  {
   "cell_type": "markdown",
   "metadata": {},
   "source": [
    "## Running the Quenched Anneals on the QPU\n",
    "\n",
    "<div class=\"alert alert-warning\" role=\"alert\" style=\"margin: 10px\">\n",
    "Note that the next cell sends a large number of problems to the QPU, so running takes several minutes to complete and uses a large number of seconds of QPU time.\n",
    "</div>"
   ]
  },
  {
   "cell_type": "code",
   "execution_count": null,
   "metadata": {},
   "outputs": [],
   "source": [
    "anneal_time=[10.0, 100.0, 300.0]\n",
    "quench_slopes=[1.0, 0.5, 0.25]\n",
    "\n",
    "# start times\n",
    "num_points=5\n",
    "s_low=0.2\n",
    "s_high=0.9\n",
    "quench_start=np.linspace(s_low, s_high, num=num_points)\n",
    "\n",
    "success_prob = pd.DataFrame(index=range(len(anneal_time)*len(quench_slopes)*len(quench_start)),\n",
    "                                columns=[\"anneal_time\", \"quench_slope\", \"s_feature\", \"success_frac\"],\n",
    "                                data=None)\n",
    "counter=0\n",
    "\n",
    "print(\"Starting QPU calls...\")\n",
    "QPU_time=0.0\n",
    "for anneal in anneal_time:\n",
    "    for quench in quench_slopes:\n",
    "        for start in quench_start:\n",
    "            schedule=[[0.0,0.0],[start*anneal,start],[(1-start+quench*start*anneal)/quench, 1.0]]\n",
    "            runs=1000\n",
    "            results = sampler_embedded.sample_ising(h, J,\n",
    "                anneal_schedule=schedule,\n",
    "                num_reads=runs, \n",
    "                answer_mode='raw',\n",
    "                label='Notebook - Anneal Schedule')\n",
    "            success_prob.iloc[counter]={\"anneal_time\":anneal, \n",
    "                                        \"quench_slope\":quench, \n",
    "                                        \"s_feature\":start,\n",
    "                                        \"success_frac\":np.count_nonzero(results.record.energy == -20.0)/runs}\n",
    "            counter+=1\n",
    "            QPU_time+=results.info['timing']['qpu_access_time']\n",
    "        print(\"QPU calls remaining: \", len(anneal_time)*len(quench_slopes)*len(quench_start)-counter)\n",
    "            \n",
    "print(\"QPU calls complete using\", QPU_time/1000000.0, \"seconds of QPU time.\")"
   ]
  },
  {
   "cell_type": "markdown",
   "metadata": {},
   "source": [
    "Copyright &copy; 2021 D-Wave Systems, Inc\n",
    "\n",
    "The software is licensed under the Apache License, Version 2.0 (the \"License\");\n",
    "you may not use this file except in compliance with the License.\n",
    "You may obtain a copy of the License at\n",
    "\n",
    "    http://www.apache.org/licenses/LICENSE-2.0\n",
    "\n",
    "Unless required by applicable law or agreed to in writing, software\n",
    "distributed under the License is distributed on an \"AS IS\" BASIS,\n",
    "WITHOUT WARRANTIES OR CONDITIONS OF ANY KIND, either express or implied.\n",
    "See the License for the specific language governing permissions and\n",
    "limitations under the License.\n",
    "\n",
    "<a rel=\"license\" href=\"http://creativecommons.org/licenses/by-nc-sa/4.0/\"><img alt=\"Creative Commons License\" style=\"border-width:0\" src=\"https://i.creativecommons.org/l/by-nc-sa/4.0/88x31.png\" /></a><br />This Jupyter Notebook is licensed under a <a rel=\"license\" href=\"http://creativecommons.org/licenses/by-nc-sa/4.0/\">Creative Commons Attribution-NonCommercial-ShareAlike 4.0 International License</a>"
   ]
  }
 ],
 "metadata": {
  "kernelspec": {
   "display_name": "Python 3",
   "language": "python",
   "name": "python3"
  },
  "language_info": {
   "codemirror_mode": {
    "name": "ipython",
    "version": 3
   },
   "file_extension": ".py",
   "mimetype": "text/x-python",
   "name": "python",
   "nbconvert_exporter": "python",
   "pygments_lexer": "ipython3",
   "version": "3.6.5"
  },
  "toc": {
   "base_numbering": 1,
   "nav_menu": {},
   "number_sections": true,
   "sideBar": true,
   "skip_h1_title": false,
   "title_cell": "Table of Contents",
   "title_sidebar": "Contents",
   "toc_cell": false,
   "toc_position": {},
   "toc_section_display": true,
   "toc_window_display": true
  }
 },
 "nbformat": 4,
 "nbformat_minor": 1
}
